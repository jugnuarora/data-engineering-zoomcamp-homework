{
 "cells": [
  {
   "cell_type": "code",
   "execution_count": 2,
   "metadata": {},
   "outputs": [
    {
     "name": "stdout",
     "output_type": "stream",
     "text": [
      "Requirement already satisfied: dlt[bigquery] in /opt/homebrew/Caskroom/miniconda/base/envs/de-zoomcamp/lib/python3.9/site-packages (1.2.0)\n",
      "Requirement already satisfied: pendulum>=2.1.2 in /opt/homebrew/Caskroom/miniconda/base/envs/de-zoomcamp/lib/python3.9/site-packages (from dlt[bigquery]) (2.1.2)\n",
      "Requirement already satisfied: click>=7.1 in /opt/homebrew/Caskroom/miniconda/base/envs/de-zoomcamp/lib/python3.9/site-packages (from dlt[bigquery]) (8.1.8)\n",
      "Requirement already satisfied: hexbytes>=0.2.2 in /opt/homebrew/Caskroom/miniconda/base/envs/de-zoomcamp/lib/python3.9/site-packages (from dlt[bigquery]) (1.3.0)\n",
      "Requirement already satisfied: simplejson>=3.17.5 in /opt/homebrew/Caskroom/miniconda/base/envs/de-zoomcamp/lib/python3.9/site-packages (from dlt[bigquery]) (3.17.5)\n",
      "Requirement already satisfied: gitpython>=3.1.29 in /opt/homebrew/Caskroom/miniconda/base/envs/de-zoomcamp/lib/python3.9/site-packages (from dlt[bigquery]) (3.1.44)\n",
      "Requirement already satisfied: tenacity>=8.0.2 in /opt/homebrew/Caskroom/miniconda/base/envs/de-zoomcamp/lib/python3.9/site-packages (from dlt[bigquery]) (8.2.3)\n",
      "Requirement already satisfied: makefun>=1.15.0 in /opt/homebrew/Caskroom/miniconda/base/envs/de-zoomcamp/lib/python3.9/site-packages (from dlt[bigquery]) (1.15.6)\n",
      "Requirement already satisfied: pytz>=2022.6 in /opt/homebrew/Caskroom/miniconda/base/envs/de-zoomcamp/lib/python3.9/site-packages (from dlt[bigquery]) (2022.7)\n",
      "Requirement already satisfied: jsonpath-ng>=1.5.3 in /opt/homebrew/Caskroom/miniconda/base/envs/de-zoomcamp/lib/python3.9/site-packages (from dlt[bigquery]) (1.6.1)\n",
      "Requirement already satisfied: giturlparse>=0.10.0 in /opt/homebrew/Caskroom/miniconda/base/envs/de-zoomcamp/lib/python3.9/site-packages (from dlt[bigquery]) (0.12.0)\n",
      "Requirement already satisfied: setuptools>=65.6.0 in /opt/homebrew/Caskroom/miniconda/base/envs/de-zoomcamp/lib/python3.9/site-packages (from dlt[bigquery]) (65.6.3)\n",
      "Requirement already satisfied: requests>=2.26.0 in /opt/homebrew/Caskroom/miniconda/base/envs/de-zoomcamp/lib/python3.9/site-packages (from dlt[bigquery]) (2.28.1)\n",
      "Requirement already satisfied: requirements-parser>=0.5.0 in /opt/homebrew/Caskroom/miniconda/base/envs/de-zoomcamp/lib/python3.9/site-packages (from dlt[bigquery]) (0.10.2)\n",
      "Requirement already satisfied: fsspec>=2022.4.0 in /opt/homebrew/Caskroom/miniconda/base/envs/de-zoomcamp/lib/python3.9/site-packages (from dlt[bigquery]) (2025.2.0)\n",
      "Requirement already satisfied: tomlkit>=0.11.3 in /opt/homebrew/Caskroom/miniconda/base/envs/de-zoomcamp/lib/python3.9/site-packages (from dlt[bigquery]) (0.13.2)\n",
      "Requirement already satisfied: typing-extensions>=4.0.0 in /opt/homebrew/Caskroom/miniconda/base/envs/de-zoomcamp/lib/python3.9/site-packages (from dlt[bigquery]) (4.12.2)\n",
      "Requirement already satisfied: packaging>=21.1 in /opt/homebrew/Caskroom/miniconda/base/envs/de-zoomcamp/lib/python3.9/site-packages (from dlt[bigquery]) (22.0)\n",
      "Requirement already satisfied: PyYAML>=5.4.1 in /opt/homebrew/Caskroom/miniconda/base/envs/de-zoomcamp/lib/python3.9/site-packages (from dlt[bigquery]) (6.0)\n",
      "Requirement already satisfied: orjson!=3.10.1,!=3.9.11,!=3.9.12,!=3.9.13,!=3.9.14,<4,>=3.6.7 in /opt/homebrew/Caskroom/miniconda/base/envs/de-zoomcamp/lib/python3.9/site-packages (from dlt[bigquery]) (3.10.14)\n",
      "Requirement already satisfied: astunparse>=1.6.3 in /opt/homebrew/Caskroom/miniconda/base/envs/de-zoomcamp/lib/python3.9/site-packages (from dlt[bigquery]) (1.6.3)\n",
      "Requirement already satisfied: semver>=2.13.0 in /opt/homebrew/Caskroom/miniconda/base/envs/de-zoomcamp/lib/python3.9/site-packages (from dlt[bigquery]) (3.0.4)\n",
      "Requirement already satisfied: humanize>=4.4.0 in /opt/homebrew/Caskroom/miniconda/base/envs/de-zoomcamp/lib/python3.9/site-packages (from dlt[bigquery]) (4.11.0)\n",
      "Requirement already satisfied: pathvalidate>=2.5.2 in /opt/homebrew/Caskroom/miniconda/base/envs/de-zoomcamp/lib/python3.9/site-packages (from dlt[bigquery]) (3.2.3)\n",
      "Requirement already satisfied: tzdata>=2022.1 in /opt/homebrew/Caskroom/miniconda/base/envs/de-zoomcamp/lib/python3.9/site-packages (from dlt[bigquery]) (2025.1)\n",
      "Collecting gcsfs>=2022.4.0\n",
      "  Downloading gcsfs-2025.2.0-py2.py3-none-any.whl (35 kB)\n",
      "Collecting google-cloud-bigquery>=2.26.0\n",
      "  Downloading google_cloud_bigquery-3.29.0-py2.py3-none-any.whl (244 kB)\n",
      "\u001b[2K     \u001b[90m━━━━━━━━━━━━━━━━━━━━━━━━━━━━━━━━━━━━━━━\u001b[0m \u001b[32m244.6/244.6 kB\u001b[0m \u001b[31m7.0 MB/s\u001b[0m eta \u001b[36m0:00:00\u001b[0m\n",
      "\u001b[?25hCollecting grpcio>=1.50.0\n",
      "  Downloading grpcio-1.70.0-cp39-cp39-macosx_10_14_universal2.whl (11.5 MB)\n",
      "\u001b[2K     \u001b[90m━━━━━━━━━━━━━━━━━━━━━━━━━━━━━━━━━━━━━━━━\u001b[0m \u001b[32m11.5/11.5 MB\u001b[0m \u001b[31m11.1 MB/s\u001b[0m eta \u001b[36m0:00:00\u001b[0m00:01\u001b[0m00:01\u001b[0m\n",
      "\u001b[?25hCollecting pyarrow>=12.0.0\n",
      "  Downloading pyarrow-19.0.0-cp39-cp39-macosx_12_0_arm64.whl (30.7 MB)\n",
      "\u001b[2K     \u001b[90m━━━━━━━━━━━━━━━━━━━━━━━━━━━━━━━━━━━━━━━━\u001b[0m \u001b[32m30.7/30.7 MB\u001b[0m \u001b[31m10.8 MB/s\u001b[0m eta \u001b[36m0:00:00\u001b[0m00:01\u001b[0m00:01\u001b[0m\n",
      "\u001b[?25hRequirement already satisfied: six<2.0,>=1.6.1 in /opt/homebrew/Caskroom/miniconda/base/envs/de-zoomcamp/lib/python3.9/site-packages (from astunparse>=1.6.3->dlt[bigquery]) (1.16.0)\n",
      "Collecting aiohttp!=4.0.0a0,!=4.0.0a1\n",
      "  Downloading aiohttp-3.11.12-cp39-cp39-macosx_11_0_arm64.whl (456 kB)\n",
      "\u001b[2K     \u001b[90m━━━━━━━━━━━━━━━━━━━━━━━━━━━━━━━━━━━━━━\u001b[0m \u001b[32m456.1/456.1 kB\u001b[0m \u001b[31m10.0 MB/s\u001b[0m eta \u001b[36m0:00:00\u001b[0m00:01\u001b[0m\n",
      "\u001b[?25hCollecting google-auth-oauthlib\n",
      "  Downloading google_auth_oauthlib-1.2.1-py2.py3-none-any.whl (24 kB)\n",
      "Requirement already satisfied: decorator>4.1.2 in /opt/homebrew/Caskroom/miniconda/base/envs/de-zoomcamp/lib/python3.9/site-packages (from gcsfs>=2022.4.0->dlt[bigquery]) (5.1.1)\n",
      "Requirement already satisfied: google-cloud-storage in /opt/homebrew/Caskroom/miniconda/base/envs/de-zoomcamp/lib/python3.9/site-packages (from gcsfs>=2022.4.0->dlt[bigquery]) (3.0.0)\n",
      "Requirement already satisfied: google-auth>=1.2 in /opt/homebrew/Caskroom/miniconda/base/envs/de-zoomcamp/lib/python3.9/site-packages (from gcsfs>=2022.4.0->dlt[bigquery]) (2.38.0)\n",
      "Requirement already satisfied: gitdb<5,>=4.0.1 in /opt/homebrew/Caskroom/miniconda/base/envs/de-zoomcamp/lib/python3.9/site-packages (from gitpython>=3.1.29->dlt[bigquery]) (4.0.12)\n",
      "Requirement already satisfied: google-resumable-media<3.0dev,>=2.0.0 in /opt/homebrew/Caskroom/miniconda/base/envs/de-zoomcamp/lib/python3.9/site-packages (from google-cloud-bigquery>=2.26.0->dlt[bigquery]) (2.7.2)\n",
      "Requirement already satisfied: google-cloud-core<3.0.0dev,>=2.4.1 in /opt/homebrew/Caskroom/miniconda/base/envs/de-zoomcamp/lib/python3.9/site-packages (from google-cloud-bigquery>=2.26.0->dlt[bigquery]) (2.4.1)\n",
      "Requirement already satisfied: google-api-core[grpc]<3.0.0dev,>=2.11.1 in /opt/homebrew/Caskroom/miniconda/base/envs/de-zoomcamp/lib/python3.9/site-packages (from google-cloud-bigquery>=2.26.0->dlt[bigquery]) (2.24.1)\n",
      "Requirement already satisfied: python-dateutil<3.0dev,>=2.7.3 in /opt/homebrew/Caskroom/miniconda/base/envs/de-zoomcamp/lib/python3.9/site-packages (from google-cloud-bigquery>=2.26.0->dlt[bigquery]) (2.8.2)\n",
      "Requirement already satisfied: ply in /opt/homebrew/Caskroom/miniconda/base/envs/de-zoomcamp/lib/python3.9/site-packages (from jsonpath-ng>=1.5.3->dlt[bigquery]) (3.11)\n",
      "Requirement already satisfied: pytzdata>=2020.1 in /opt/homebrew/Caskroom/miniconda/base/envs/de-zoomcamp/lib/python3.9/site-packages (from pendulum>=2.1.2->dlt[bigquery]) (2020.1)\n",
      "Requirement already satisfied: idna<4,>=2.5 in /opt/homebrew/Caskroom/miniconda/base/envs/de-zoomcamp/lib/python3.9/site-packages (from requests>=2.26.0->dlt[bigquery]) (3.4)\n",
      "Requirement already satisfied: urllib3<1.27,>=1.21.1 in /opt/homebrew/Caskroom/miniconda/base/envs/de-zoomcamp/lib/python3.9/site-packages (from requests>=2.26.0->dlt[bigquery]) (1.26.14)\n",
      "Requirement already satisfied: certifi>=2017.4.17 in /opt/homebrew/Caskroom/miniconda/base/envs/de-zoomcamp/lib/python3.9/site-packages (from requests>=2.26.0->dlt[bigquery]) (2024.12.14)\n",
      "Requirement already satisfied: charset-normalizer<3,>=2 in /opt/homebrew/Caskroom/miniconda/base/envs/de-zoomcamp/lib/python3.9/site-packages (from requests>=2.26.0->dlt[bigquery]) (2.0.4)\n",
      "Requirement already satisfied: types-setuptools>=69.1.0 in /opt/homebrew/Caskroom/miniconda/base/envs/de-zoomcamp/lib/python3.9/site-packages (from requirements-parser>=0.5.0->dlt[bigquery]) (75.8.0.20250210)\n",
      "Collecting aiosignal>=1.1.2\n",
      "  Downloading aiosignal-1.3.2-py2.py3-none-any.whl (7.6 kB)\n",
      "Collecting yarl<2.0,>=1.17.0\n",
      "  Downloading yarl-1.18.3-cp39-cp39-macosx_11_0_arm64.whl (92 kB)\n",
      "\u001b[2K     \u001b[90m━━━━━━━━━━━━━━━━━━━━━━━━━━━━━━━━━━━━━━━━\u001b[0m \u001b[32m92.8/92.8 kB\u001b[0m \u001b[31m6.7 MB/s\u001b[0m eta \u001b[36m0:00:00\u001b[0m\n",
      "\u001b[?25hCollecting async-timeout<6.0,>=4.0\n",
      "  Downloading async_timeout-5.0.1-py3-none-any.whl (6.2 kB)\n",
      "Collecting aiohappyeyeballs>=2.3.0\n",
      "  Downloading aiohappyeyeballs-2.4.6-py3-none-any.whl (14 kB)\n",
      "Collecting propcache>=0.2.0\n",
      "  Downloading propcache-0.2.1-cp39-cp39-macosx_11_0_arm64.whl (45 kB)\n",
      "\u001b[2K     \u001b[90m━━━━━━━━━━━━━━━━━━━━━━━━━━━━━━━━━━━━━━━━\u001b[0m \u001b[32m45.7/45.7 kB\u001b[0m \u001b[31m4.4 MB/s\u001b[0m eta \u001b[36m0:00:00\u001b[0m\n",
      "\u001b[?25hCollecting multidict<7.0,>=4.5\n",
      "  Downloading multidict-6.1.0-cp39-cp39-macosx_11_0_arm64.whl (29 kB)\n",
      "Collecting frozenlist>=1.1.1\n",
      "  Downloading frozenlist-1.5.0-cp39-cp39-macosx_11_0_arm64.whl (52 kB)\n",
      "\u001b[2K     \u001b[90m━━━━━━━━━━━━━━━━━━━━━━━━━━━━━━━━━━━━━━━━\u001b[0m \u001b[32m52.7/52.7 kB\u001b[0m \u001b[31m4.6 MB/s\u001b[0m eta \u001b[36m0:00:00\u001b[0m\n",
      "\u001b[?25hRequirement already satisfied: attrs>=17.3.0 in /opt/homebrew/Caskroom/miniconda/base/envs/de-zoomcamp/lib/python3.9/site-packages (from aiohttp!=4.0.0a0,!=4.0.0a1->gcsfs>=2022.4.0->dlt[bigquery]) (22.1.0)\n",
      "Requirement already satisfied: smmap<6,>=3.0.1 in /opt/homebrew/Caskroom/miniconda/base/envs/de-zoomcamp/lib/python3.9/site-packages (from gitdb<5,>=4.0.1->gitpython>=3.1.29->dlt[bigquery]) (5.0.0)\n",
      "Requirement already satisfied: googleapis-common-protos<2.0.dev0,>=1.56.2 in /opt/homebrew/Caskroom/miniconda/base/envs/de-zoomcamp/lib/python3.9/site-packages (from google-api-core[grpc]<3.0.0dev,>=2.11.1->google-cloud-bigquery>=2.26.0->dlt[bigquery]) (1.66.0)\n",
      "Requirement already satisfied: protobuf!=3.20.0,!=3.20.1,!=4.21.0,!=4.21.1,!=4.21.2,!=4.21.3,!=4.21.4,!=4.21.5,<6.0.0.dev0,>=3.19.5 in /opt/homebrew/Caskroom/miniconda/base/envs/de-zoomcamp/lib/python3.9/site-packages (from google-api-core[grpc]<3.0.0dev,>=2.11.1->google-cloud-bigquery>=2.26.0->dlt[bigquery]) (5.29.3)\n",
      "Requirement already satisfied: proto-plus<2.0.0dev,>=1.22.3 in /opt/homebrew/Caskroom/miniconda/base/envs/de-zoomcamp/lib/python3.9/site-packages (from google-api-core[grpc]<3.0.0dev,>=2.11.1->google-cloud-bigquery>=2.26.0->dlt[bigquery]) (1.26.0)\n",
      "Collecting grpcio-status<2.0.dev0,>=1.33.2\n",
      "  Downloading grpcio_status-1.70.0-py3-none-any.whl (14 kB)\n",
      "Requirement already satisfied: rsa<5,>=3.1.4 in /opt/homebrew/Caskroom/miniconda/base/envs/de-zoomcamp/lib/python3.9/site-packages (from google-auth>=1.2->gcsfs>=2022.4.0->dlt[bigquery]) (4.9)\n",
      "Requirement already satisfied: cachetools<6.0,>=2.0.0 in /opt/homebrew/Caskroom/miniconda/base/envs/de-zoomcamp/lib/python3.9/site-packages (from google-auth>=1.2->gcsfs>=2022.4.0->dlt[bigquery]) (5.5.1)\n",
      "Requirement already satisfied: pyasn1-modules>=0.2.1 in /opt/homebrew/Caskroom/miniconda/base/envs/de-zoomcamp/lib/python3.9/site-packages (from google-auth>=1.2->gcsfs>=2022.4.0->dlt[bigquery]) (0.4.1)\n",
      "Requirement already satisfied: google-crc32c<2.0dev,>=1.0 in /opt/homebrew/Caskroom/miniconda/base/envs/de-zoomcamp/lib/python3.9/site-packages (from google-resumable-media<3.0dev,>=2.0.0->google-cloud-bigquery>=2.26.0->dlt[bigquery]) (1.6.0)\n",
      "Collecting requests-oauthlib>=0.7.0\n",
      "  Downloading requests_oauthlib-2.0.0-py2.py3-none-any.whl (24 kB)\n",
      "Requirement already satisfied: pyasn1<0.7.0,>=0.4.6 in /opt/homebrew/Caskroom/miniconda/base/envs/de-zoomcamp/lib/python3.9/site-packages (from pyasn1-modules>=0.2.1->google-auth>=1.2->gcsfs>=2022.4.0->dlt[bigquery]) (0.6.1)\n",
      "Collecting oauthlib>=3.0.0\n",
      "  Downloading oauthlib-3.2.2-py3-none-any.whl (151 kB)\n",
      "\u001b[2K     \u001b[90m━━━━━━━━━━━━━━━━━━━━━━━━━━━━━━━━━━━━━━━\u001b[0m \u001b[32m151.7/151.7 kB\u001b[0m \u001b[31m8.3 MB/s\u001b[0m eta \u001b[36m0:00:00\u001b[0m\n",
      "\u001b[?25hInstalling collected packages: pyarrow, propcache, oauthlib, multidict, grpcio, frozenlist, async-timeout, aiohappyeyeballs, yarl, requests-oauthlib, grpcio-status, aiosignal, google-auth-oauthlib, aiohttp, google-cloud-bigquery, gcsfs\n",
      "Successfully installed aiohappyeyeballs-2.4.6 aiohttp-3.11.12 aiosignal-1.3.2 async-timeout-5.0.1 frozenlist-1.5.0 gcsfs-2025.2.0 google-auth-oauthlib-1.2.1 google-cloud-bigquery-3.29.0 grpcio-1.70.0 grpcio-status-1.70.0 multidict-6.1.0 oauthlib-3.2.2 propcache-0.2.1 pyarrow-19.0.0 requests-oauthlib-2.0.0 yarl-1.18.3\n"
     ]
    }
   ],
   "source": [
    "!pip install \"dlt[bigquery]\""
   ]
  },
  {
   "cell_type": "markdown",
   "metadata": {},
   "source": [
    "# Question 1"
   ]
  },
  {
   "cell_type": "code",
   "execution_count": null,
   "metadata": {},
   "outputs": [
    {
     "name": "stdout",
     "output_type": "stream",
     "text": [
      "dlt 1.2.0\n"
     ]
    }
   ],
   "source": [
    "!dlt --version\n",
    "# Answer: dlt 1.2.0"
   ]
  },
  {
   "cell_type": "code",
   "execution_count": 4,
   "metadata": {},
   "outputs": [
    {
     "name": "stdout",
     "output_type": "stream",
     "text": [
      "dlt version: 1.2.0\n"
     ]
    }
   ],
   "source": [
    "import dlt\n",
    "print(\"dlt version:\", dlt.__version__)"
   ]
  },
  {
   "cell_type": "markdown",
   "metadata": {},
   "source": [
    "# Question 2"
   ]
  },
  {
   "cell_type": "code",
   "execution_count": 5,
   "metadata": {},
   "outputs": [
    {
     "name": "stderr",
     "output_type": "stream",
     "text": [
      "/opt/homebrew/Caskroom/miniconda/base/envs/de-zoomcamp/lib/python3.9/site-packages/google/cloud/bigquery/client.py:595: UserWarning: Cannot create BigQuery Storage client, the dependency google-cloud-bigquery-storage is not installed.\n",
      "  warnings.warn(\n"
     ]
    },
    {
     "name": "stdout",
     "output_type": "stream",
     "text": [
      "Pipeline ny_taxi_pipeline_dlt load step completed in 23.43 seconds\n",
      "1 load package(s) were loaded to destination bigquery and into dataset ny_taxi_data_dlt\n",
      "The bigquery destination used de-zoomcamp-warehouse@de-zoomcamp-warehouse.iam.gserviceaccount.com@de-zoomcamp-warehouse location to store data\n",
      "Load package 1739478619.329885 is LOADED and contains no failed jobs\n"
     ]
    }
   ],
   "source": [
    "import dlt\n",
    "from dlt.sources.helpers.rest_client import RESTClient\n",
    "from dlt.sources.helpers.rest_client.paginators import PageNumberPaginator\n",
    "\n",
    "@dlt.resource(name=\"rides_dlt\", write_disposition=\"replace\")\n",
    "def ny_taxi_dlt():\n",
    "    client = RESTClient(\n",
    "        base_url=\"https://us-central1-dlthub-analytics.cloudfunctions.net\",\n",
    "        paginator=PageNumberPaginator(\n",
    "            base_page=1,\n",
    "            total_path=None\n",
    "        )\n",
    "    )\n",
    "\n",
    "    for page in client.paginate(\"data_engineering_zoomcamp_api\"):\n",
    "        yield page\n",
    "\n",
    "\n",
    "pipeline = dlt.pipeline(\n",
    "    pipeline_name=\"ny_taxi_pipeline_dlt\",\n",
    "    destination=\"bigquery\",\n",
    "    dataset_name=\"ny_taxi_data_dlt\"\n",
    ")\n",
    "\n",
    "load_info = pipeline.run(ny_taxi_dlt)\n",
    "print(load_info)"
   ]
  },
  {
   "cell_type": "code",
   "execution_count": 6,
   "metadata": {},
   "outputs": [],
   "source": [
    "import os\n",
    "from google.cloud import bigquery\n",
    "\n",
    "# Path to your JSON key file\n",
    "os.environ[\"GOOGLE_APPLICATION_CREDENTIALS\"] = \"gcs.json\"\n",
    "\n",
    "# Initialize BigQuery client\n",
    "client = bigquery.Client()"
   ]
  },
  {
   "cell_type": "code",
   "execution_count": 4,
   "metadata": {},
   "outputs": [],
   "source": [
    "import dlt\n",
    "pipeline = dlt.pipeline(\n",
    "    pipeline_name=\"ny_taxi_pipeline_dlt\",\n",
    "    destination=\"bigquery\",\n",
    "    dataset_name=\"ny_taxi_data_dlt\"\n",
    ")"
   ]
  },
  {
   "cell_type": "code",
   "execution_count": 7,
   "metadata": {},
   "outputs": [
    {
     "name": "stdout",
     "output_type": "stream",
     "text": [
      "Tables in dataset 'ny_taxi_data_dlt':\n",
      "_dlt_loads\n",
      "_dlt_pipeline_state\n",
      "_dlt_version\n",
      "rides_dlt\n"
     ]
    }
   ],
   "source": [
    "# Get the dataset name from the pipeline\n",
    "dataset_name = pipeline.dataset_name  # Get dataset name from dlt pipeline\n",
    "\n",
    "# List tables in the dataset\n",
    "tables = list(client.list_tables(dataset_name))\n",
    "\n",
    "# Print table names\n",
    "print(f\"Tables in dataset '{dataset_name}':\")\n",
    "for table in tables:\n",
    "    print(table.table_id)"
   ]
  },
  {
   "cell_type": "markdown",
   "metadata": {},
   "source": [
    "# Question 3"
   ]
  },
  {
   "cell_type": "code",
   "execution_count": 12,
   "metadata": {},
   "outputs": [
    {
     "name": "stdout",
     "output_type": "stream",
     "text": [
      "Collecting db-dtypes\n",
      "  Downloading db_dtypes-1.4.1-py2.py3-none-any.whl (19 kB)\n",
      "Requirement already satisfied: pandas>=0.24.2 in /opt/homebrew/Caskroom/miniconda/base/envs/de-zoomcamp/lib/python3.9/site-packages (from db-dtypes) (1.5.3)\n",
      "Requirement already satisfied: packaging>=17.0 in /opt/homebrew/Caskroom/miniconda/base/envs/de-zoomcamp/lib/python3.9/site-packages (from db-dtypes) (22.0)\n",
      "Requirement already satisfied: numpy>=1.16.6 in /opt/homebrew/Caskroom/miniconda/base/envs/de-zoomcamp/lib/python3.9/site-packages (from db-dtypes) (1.23.5)\n",
      "Requirement already satisfied: pyarrow>=3.0.0 in /opt/homebrew/Caskroom/miniconda/base/envs/de-zoomcamp/lib/python3.9/site-packages (from db-dtypes) (19.0.0)\n",
      "Requirement already satisfied: python-dateutil>=2.8.1 in /opt/homebrew/Caskroom/miniconda/base/envs/de-zoomcamp/lib/python3.9/site-packages (from pandas>=0.24.2->db-dtypes) (2.8.2)\n",
      "Requirement already satisfied: pytz>=2020.1 in /opt/homebrew/Caskroom/miniconda/base/envs/de-zoomcamp/lib/python3.9/site-packages (from pandas>=0.24.2->db-dtypes) (2022.7)\n",
      "Requirement already satisfied: six>=1.5 in /opt/homebrew/Caskroom/miniconda/base/envs/de-zoomcamp/lib/python3.9/site-packages (from python-dateutil>=2.8.1->pandas>=0.24.2->db-dtypes) (1.16.0)\n",
      "Installing collected packages: db-dtypes\n",
      "Successfully installed db-dtypes-1.4.1\n"
     ]
    }
   ],
   "source": [
    "!pip install db-dtypes"
   ]
  },
  {
   "cell_type": "code",
   "execution_count": 8,
   "metadata": {},
   "outputs": [
    {
     "name": "stderr",
     "output_type": "stream",
     "text": [
      "/opt/homebrew/Caskroom/miniconda/base/envs/de-zoomcamp/lib/python3.9/site-packages/google/cloud/bigquery/table.py:1820: UserWarning: BigQuery Storage module not found, fetch data with the REST endpoint instead.\n",
      "  warnings.warn(\n"
     ]
    },
    {
     "data": {
      "text/html": [
       "<div>\n",
       "<style scoped>\n",
       "    .dataframe tbody tr th:only-of-type {\n",
       "        vertical-align: middle;\n",
       "    }\n",
       "\n",
       "    .dataframe tbody tr th {\n",
       "        vertical-align: top;\n",
       "    }\n",
       "\n",
       "    .dataframe thead th {\n",
       "        text-align: right;\n",
       "    }\n",
       "</style>\n",
       "<table border=\"1\" class=\"dataframe\">\n",
       "  <thead>\n",
       "    <tr style=\"text-align: right;\">\n",
       "      <th></th>\n",
       "      <th>total_records</th>\n",
       "    </tr>\n",
       "  </thead>\n",
       "  <tbody>\n",
       "    <tr>\n",
       "      <th>0</th>\n",
       "      <td>10000</td>\n",
       "    </tr>\n",
       "  </tbody>\n",
       "</table>\n",
       "</div>"
      ],
      "text/plain": [
       "   total_records\n",
       "0          10000"
      ]
     },
     "execution_count": 8,
     "metadata": {},
     "output_type": "execute_result"
    }
   ],
   "source": [
    "table_name = \"rides_dlt\"  # The table you want to inspect\n",
    "\n",
    "# Query to count the records\n",
    "query = f\"SELECT COUNT(*) AS total_records FROM `{dataset_name}.{table_name}`\"\n",
    "\n",
    "# Execute query and convert to DataFrame\n",
    "df = client.query(query).to_dataframe()\n",
    "\n",
    "# Display record count\n",
    "df"
   ]
  },
  {
   "cell_type": "markdown",
   "metadata": {},
   "source": [
    "# Question 4"
   ]
  },
  {
   "cell_type": "code",
   "execution_count": 14,
   "metadata": {},
   "outputs": [
    {
     "name": "stdout",
     "output_type": "stream",
     "text": [
      "[Row((12.298199999999992,), {'f0_': 0})]\n"
     ]
    }
   ],
   "source": [
    "with pipeline.sql_client() as client:\n",
    "    res = client.execute_sql(\n",
    "            \"\"\"\n",
    "            SELECT\n",
    "            AVG(TIMESTAMP_DIFF(trip_dropoff_date_time, trip_pickup_date_time, MINUTE))\n",
    "            FROM rides_dlt;\n",
    "            \"\"\"\n",
    "        )\n",
    "    # Prints column values of the first row\n",
    "    print(res)"
   ]
  }
 ],
 "metadata": {
  "kernelspec": {
   "display_name": "de-zoomcamp",
   "language": "python",
   "name": "python3"
  },
  "language_info": {
   "codemirror_mode": {
    "name": "ipython",
    "version": 3
   },
   "file_extension": ".py",
   "mimetype": "text/x-python",
   "name": "python",
   "nbconvert_exporter": "python",
   "pygments_lexer": "ipython3",
   "version": "3.9.16"
  }
 },
 "nbformat": 4,
 "nbformat_minor": 2
}
